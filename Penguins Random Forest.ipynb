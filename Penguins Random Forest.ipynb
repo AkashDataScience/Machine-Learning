{
 "cells": [
  {
   "cell_type": "markdown",
   "id": "8d6972d3",
   "metadata": {},
   "source": [
    "### Import libraries"
   ]
  },
  {
   "cell_type": "code",
   "execution_count": 1,
   "id": "b59fbd1b",
   "metadata": {},
   "outputs": [],
   "source": [
    "import pandas as pd\n",
    "from sklearn import preprocessing\n",
    "from sklearn.model_selection import train_test_split\n",
    "from sklearn.ensemble import RandomForestClassifier\n",
    "from sklearn.metrics import classification_report, confusion_matrix, roc_curve, roc_auc_score"
   ]
  },
  {
   "cell_type": "markdown",
   "id": "a6e624b0",
   "metadata": {},
   "source": [
    "### Read data"
   ]
  },
  {
   "cell_type": "code",
   "execution_count": 2,
   "id": "1aaf621a",
   "metadata": {},
   "outputs": [
    {
     "data": {
      "text/html": [
       "<div>\n",
       "<style scoped>\n",
       "    .dataframe tbody tr th:only-of-type {\n",
       "        vertical-align: middle;\n",
       "    }\n",
       "\n",
       "    .dataframe tbody tr th {\n",
       "        vertical-align: top;\n",
       "    }\n",
       "\n",
       "    .dataframe thead th {\n",
       "        text-align: right;\n",
       "    }\n",
       "</style>\n",
       "<table border=\"1\" class=\"dataframe\">\n",
       "  <thead>\n",
       "    <tr style=\"text-align: right;\">\n",
       "      <th></th>\n",
       "      <th>species</th>\n",
       "      <th>island</th>\n",
       "      <th>culmen_length_mm</th>\n",
       "      <th>culmen_depth_mm</th>\n",
       "      <th>flipper_length_mm</th>\n",
       "      <th>body_mass_g</th>\n",
       "      <th>sex</th>\n",
       "    </tr>\n",
       "  </thead>\n",
       "  <tbody>\n",
       "    <tr>\n",
       "      <th>0</th>\n",
       "      <td>Adelie</td>\n",
       "      <td>Torgersen</td>\n",
       "      <td>39.1</td>\n",
       "      <td>18.7</td>\n",
       "      <td>181.0</td>\n",
       "      <td>3750.0</td>\n",
       "      <td>MALE</td>\n",
       "    </tr>\n",
       "    <tr>\n",
       "      <th>1</th>\n",
       "      <td>Adelie</td>\n",
       "      <td>Torgersen</td>\n",
       "      <td>39.5</td>\n",
       "      <td>17.4</td>\n",
       "      <td>186.0</td>\n",
       "      <td>3800.0</td>\n",
       "      <td>FEMALE</td>\n",
       "    </tr>\n",
       "    <tr>\n",
       "      <th>2</th>\n",
       "      <td>Adelie</td>\n",
       "      <td>Torgersen</td>\n",
       "      <td>40.3</td>\n",
       "      <td>18.0</td>\n",
       "      <td>195.0</td>\n",
       "      <td>3250.0</td>\n",
       "      <td>FEMALE</td>\n",
       "    </tr>\n",
       "    <tr>\n",
       "      <th>3</th>\n",
       "      <td>Adelie</td>\n",
       "      <td>Torgersen</td>\n",
       "      <td>NaN</td>\n",
       "      <td>NaN</td>\n",
       "      <td>NaN</td>\n",
       "      <td>NaN</td>\n",
       "      <td>NaN</td>\n",
       "    </tr>\n",
       "    <tr>\n",
       "      <th>4</th>\n",
       "      <td>Adelie</td>\n",
       "      <td>Torgersen</td>\n",
       "      <td>36.7</td>\n",
       "      <td>19.3</td>\n",
       "      <td>193.0</td>\n",
       "      <td>3450.0</td>\n",
       "      <td>FEMALE</td>\n",
       "    </tr>\n",
       "  </tbody>\n",
       "</table>\n",
       "</div>"
      ],
      "text/plain": [
       "  species     island  culmen_length_mm  culmen_depth_mm  flipper_length_mm  \\\n",
       "0  Adelie  Torgersen              39.1             18.7              181.0   \n",
       "1  Adelie  Torgersen              39.5             17.4              186.0   \n",
       "2  Adelie  Torgersen              40.3             18.0              195.0   \n",
       "3  Adelie  Torgersen               NaN              NaN                NaN   \n",
       "4  Adelie  Torgersen              36.7             19.3              193.0   \n",
       "\n",
       "   body_mass_g     sex  \n",
       "0       3750.0    MALE  \n",
       "1       3800.0  FEMALE  \n",
       "2       3250.0  FEMALE  \n",
       "3          NaN     NaN  \n",
       "4       3450.0  FEMALE  "
      ]
     },
     "execution_count": 2,
     "metadata": {},
     "output_type": "execute_result"
    }
   ],
   "source": [
    "data = pd.read_csv('penguins_size.csv')\n",
    "data.head()"
   ]
  },
  {
   "cell_type": "markdown",
   "id": "13680f56",
   "metadata": {},
   "source": [
    "### Filling in missing values"
   ]
  },
  {
   "cell_type": "code",
   "execution_count": 3,
   "id": "2df1d0c0",
   "metadata": {},
   "outputs": [
    {
     "data": {
      "text/plain": [
       "species               0\n",
       "island                0\n",
       "culmen_length_mm      2\n",
       "culmen_depth_mm       2\n",
       "flipper_length_mm     2\n",
       "body_mass_g           2\n",
       "sex                  10\n",
       "dtype: int64"
      ]
     },
     "execution_count": 3,
     "metadata": {},
     "output_type": "execute_result"
    }
   ],
   "source": [
    "data.isnull().sum()"
   ]
  },
  {
   "cell_type": "code",
   "execution_count": 4,
   "id": "7c1a104a",
   "metadata": {},
   "outputs": [],
   "source": [
    "data.drop(data[data['body_mass_g'].isnull()].index,axis=0, inplace=True)"
   ]
  },
  {
   "cell_type": "code",
   "execution_count": 5,
   "id": "75560b49",
   "metadata": {},
   "outputs": [],
   "source": [
    "data['sex'] = data['sex'].fillna('MALE')"
   ]
  },
  {
   "cell_type": "code",
   "execution_count": 6,
   "id": "2e22c0c1",
   "metadata": {},
   "outputs": [],
   "source": [
    "data.drop(data[data['sex']=='.'].index, inplace=True)"
   ]
  },
  {
   "cell_type": "markdown",
   "id": "eb25696d",
   "metadata": {},
   "source": [
    "### Creating classifier for species "
   ]
  },
  {
   "cell_type": "markdown",
   "id": "834a6b6b",
   "metadata": {},
   "source": [
    "Encode 'sex' and 'island' as categorical variable"
   ]
  },
  {
   "cell_type": "code",
   "execution_count": 7,
   "id": "3fb2fd2b",
   "metadata": {},
   "outputs": [],
   "source": [
    "df = data.copy()\n",
    "target = 'species'\n",
    "encode = ['sex', 'island']\n",
    "\n",
    "for col in encode:\n",
    "    dummy = pd.get_dummies(df[col], prefix=col)\n",
    "    df = pd.concat([df,dummy], axis=1)\n",
    "    del df[col]"
   ]
  },
  {
   "cell_type": "markdown",
   "id": "a4438fa4",
   "metadata": {},
   "source": [
    "Encode target variable"
   ]
  },
  {
   "cell_type": "code",
   "execution_count": 8,
   "id": "764b3297",
   "metadata": {},
   "outputs": [],
   "source": [
    "target_mapper = {'Adelie':0, 'Chinstrap':1, 'Gentoo':2}\n",
    "def target_encode(val):\n",
    "    return target_mapper[val]\n",
    "\n",
    "df[target] = df[target].apply(target_encode)"
   ]
  },
  {
   "cell_type": "markdown",
   "id": "45ca53d5",
   "metadata": {},
   "source": [
    "Separate X and y"
   ]
  },
  {
   "cell_type": "code",
   "execution_count": 9,
   "id": "a619441c",
   "metadata": {},
   "outputs": [],
   "source": [
    "X = df.drop(target, axis=1)\n",
    "y = df[target]"
   ]
  },
  {
   "cell_type": "markdown",
   "id": "7e487b4d",
   "metadata": {},
   "source": [
    "Scale data"
   ]
  },
  {
   "cell_type": "code",
   "execution_count": 10,
   "id": "70e4a130",
   "metadata": {},
   "outputs": [],
   "source": [
    "X = preprocessing.scale(X)"
   ]
  },
  {
   "cell_type": "markdown",
   "id": "5c31ed59",
   "metadata": {},
   "source": [
    "Split training and test data"
   ]
  },
  {
   "cell_type": "code",
   "execution_count": 11,
   "id": "9263bfe5",
   "metadata": {},
   "outputs": [],
   "source": [
    "X_train, X_test, y_train, y_test = train_test_split(X, y, test_size=0.2)"
   ]
  },
  {
   "cell_type": "markdown",
   "id": "ff305bff",
   "metadata": {},
   "source": [
    "Fit model and predict"
   ]
  },
  {
   "cell_type": "code",
   "execution_count": 12,
   "id": "1f413644",
   "metadata": {},
   "outputs": [],
   "source": [
    "model = RandomForestClassifier(n_estimators = 200, max_depth = 10, min_samples_split = 2, min_samples_leaf = 1)\n",
    "model.fit(X_train, y_train)\n",
    "pred = model.predict(X_test)"
   ]
  },
  {
   "cell_type": "markdown",
   "id": "33846b1a",
   "metadata": {},
   "source": [
    "Check performance of model"
   ]
  },
  {
   "cell_type": "code",
   "execution_count": 13,
   "id": "398d8bd7",
   "metadata": {},
   "outputs": [
    {
     "name": "stdout",
     "output_type": "stream",
     "text": [
      "CONFUSION MATRIX\n",
      "[[33  1  0]\n",
      " [ 0  9  0]\n",
      " [ 0  0 26]]\n"
     ]
    }
   ],
   "source": [
    "print('CONFUSION MATRIX')\n",
    "print(confusion_matrix(y_test, pred))"
   ]
  }
 ],
 "metadata": {
  "kernelspec": {
   "display_name": "Python 3 (ipykernel)",
   "language": "python",
   "name": "python3"
  },
  "language_info": {
   "codemirror_mode": {
    "name": "ipython",
    "version": 3
   },
   "file_extension": ".py",
   "mimetype": "text/x-python",
   "name": "python",
   "nbconvert_exporter": "python",
   "pygments_lexer": "ipython3",
   "version": "3.9.13"
  }
 },
 "nbformat": 4,
 "nbformat_minor": 5
}
