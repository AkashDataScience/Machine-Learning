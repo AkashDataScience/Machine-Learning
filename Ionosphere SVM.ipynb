{
 "cells": [
  {
   "cell_type": "markdown",
   "id": "f2f8df7a",
   "metadata": {},
   "source": [
    "### Import libraries"
   ]
  },
  {
   "cell_type": "code",
   "execution_count": 1,
   "id": "f0b3c424",
   "metadata": {},
   "outputs": [],
   "source": [
    "import pandas as pd\n",
    "from sklearn.preprocessing import StandardScaler\n",
    "from sklearn.model_selection import train_test_split\n",
    "from sklearn.svm import SVC\n",
    "from sklearn.metrics import classification_report"
   ]
  },
  {
   "cell_type": "markdown",
   "id": "cc1078a8",
   "metadata": {},
   "source": [
    "### Read data"
   ]
  },
  {
   "cell_type": "code",
   "execution_count": 2,
   "id": "28cccab1",
   "metadata": {},
   "outputs": [
    {
     "data": {
      "text/html": [
       "<div>\n",
       "<style scoped>\n",
       "    .dataframe tbody tr th:only-of-type {\n",
       "        vertical-align: middle;\n",
       "    }\n",
       "\n",
       "    .dataframe tbody tr th {\n",
       "        vertical-align: top;\n",
       "    }\n",
       "\n",
       "    .dataframe thead th {\n",
       "        text-align: right;\n",
       "    }\n",
       "</style>\n",
       "<table border=\"1\" class=\"dataframe\">\n",
       "  <thead>\n",
       "    <tr style=\"text-align: right;\">\n",
       "      <th></th>\n",
       "      <th>column_a</th>\n",
       "      <th>column_b</th>\n",
       "      <th>column_c</th>\n",
       "      <th>column_d</th>\n",
       "      <th>column_e</th>\n",
       "      <th>column_f</th>\n",
       "      <th>column_g</th>\n",
       "      <th>column_h</th>\n",
       "      <th>column_i</th>\n",
       "      <th>column_j</th>\n",
       "      <th>...</th>\n",
       "      <th>column_z</th>\n",
       "      <th>column_aa</th>\n",
       "      <th>column_ab</th>\n",
       "      <th>column_ac</th>\n",
       "      <th>column_ad</th>\n",
       "      <th>column_ae</th>\n",
       "      <th>column_af</th>\n",
       "      <th>column_ag</th>\n",
       "      <th>column_ah</th>\n",
       "      <th>column_ai</th>\n",
       "    </tr>\n",
       "  </thead>\n",
       "  <tbody>\n",
       "    <tr>\n",
       "      <th>0</th>\n",
       "      <td>True</td>\n",
       "      <td>False</td>\n",
       "      <td>0.99539</td>\n",
       "      <td>-0.05889</td>\n",
       "      <td>0.85243</td>\n",
       "      <td>0.02306</td>\n",
       "      <td>0.83398</td>\n",
       "      <td>-0.37708</td>\n",
       "      <td>1.00000</td>\n",
       "      <td>0.03760</td>\n",
       "      <td>...</td>\n",
       "      <td>-0.51171</td>\n",
       "      <td>0.41078</td>\n",
       "      <td>-0.46168</td>\n",
       "      <td>0.21266</td>\n",
       "      <td>-0.34090</td>\n",
       "      <td>0.42267</td>\n",
       "      <td>-0.54487</td>\n",
       "      <td>0.18641</td>\n",
       "      <td>-0.45300</td>\n",
       "      <td>g</td>\n",
       "    </tr>\n",
       "    <tr>\n",
       "      <th>1</th>\n",
       "      <td>True</td>\n",
       "      <td>False</td>\n",
       "      <td>1.00000</td>\n",
       "      <td>-0.18829</td>\n",
       "      <td>0.93035</td>\n",
       "      <td>-0.36156</td>\n",
       "      <td>-0.10868</td>\n",
       "      <td>-0.93597</td>\n",
       "      <td>1.00000</td>\n",
       "      <td>-0.04549</td>\n",
       "      <td>...</td>\n",
       "      <td>-0.26569</td>\n",
       "      <td>-0.20468</td>\n",
       "      <td>-0.18401</td>\n",
       "      <td>-0.19040</td>\n",
       "      <td>-0.11593</td>\n",
       "      <td>-0.16626</td>\n",
       "      <td>-0.06288</td>\n",
       "      <td>-0.13738</td>\n",
       "      <td>-0.02447</td>\n",
       "      <td>b</td>\n",
       "    </tr>\n",
       "    <tr>\n",
       "      <th>2</th>\n",
       "      <td>True</td>\n",
       "      <td>False</td>\n",
       "      <td>1.00000</td>\n",
       "      <td>-0.03365</td>\n",
       "      <td>1.00000</td>\n",
       "      <td>0.00485</td>\n",
       "      <td>1.00000</td>\n",
       "      <td>-0.12062</td>\n",
       "      <td>0.88965</td>\n",
       "      <td>0.01198</td>\n",
       "      <td>...</td>\n",
       "      <td>-0.40220</td>\n",
       "      <td>0.58984</td>\n",
       "      <td>-0.22145</td>\n",
       "      <td>0.43100</td>\n",
       "      <td>-0.17365</td>\n",
       "      <td>0.60436</td>\n",
       "      <td>-0.24180</td>\n",
       "      <td>0.56045</td>\n",
       "      <td>-0.38238</td>\n",
       "      <td>g</td>\n",
       "    </tr>\n",
       "    <tr>\n",
       "      <th>3</th>\n",
       "      <td>True</td>\n",
       "      <td>False</td>\n",
       "      <td>1.00000</td>\n",
       "      <td>-0.45161</td>\n",
       "      <td>1.00000</td>\n",
       "      <td>1.00000</td>\n",
       "      <td>0.71216</td>\n",
       "      <td>-1.00000</td>\n",
       "      <td>0.00000</td>\n",
       "      <td>0.00000</td>\n",
       "      <td>...</td>\n",
       "      <td>0.90695</td>\n",
       "      <td>0.51613</td>\n",
       "      <td>1.00000</td>\n",
       "      <td>1.00000</td>\n",
       "      <td>-0.20099</td>\n",
       "      <td>0.25682</td>\n",
       "      <td>1.00000</td>\n",
       "      <td>-0.32382</td>\n",
       "      <td>1.00000</td>\n",
       "      <td>b</td>\n",
       "    </tr>\n",
       "    <tr>\n",
       "      <th>4</th>\n",
       "      <td>True</td>\n",
       "      <td>False</td>\n",
       "      <td>1.00000</td>\n",
       "      <td>-0.02401</td>\n",
       "      <td>0.94140</td>\n",
       "      <td>0.06531</td>\n",
       "      <td>0.92106</td>\n",
       "      <td>-0.23255</td>\n",
       "      <td>0.77152</td>\n",
       "      <td>-0.16399</td>\n",
       "      <td>...</td>\n",
       "      <td>-0.65158</td>\n",
       "      <td>0.13290</td>\n",
       "      <td>-0.53206</td>\n",
       "      <td>0.02431</td>\n",
       "      <td>-0.62197</td>\n",
       "      <td>-0.05707</td>\n",
       "      <td>-0.59573</td>\n",
       "      <td>-0.04608</td>\n",
       "      <td>-0.65697</td>\n",
       "      <td>g</td>\n",
       "    </tr>\n",
       "  </tbody>\n",
       "</table>\n",
       "<p>5 rows × 35 columns</p>\n",
       "</div>"
      ],
      "text/plain": [
       "   column_a  column_b  column_c  column_d  column_e  column_f  column_g  \\\n",
       "0      True     False   0.99539  -0.05889   0.85243   0.02306   0.83398   \n",
       "1      True     False   1.00000  -0.18829   0.93035  -0.36156  -0.10868   \n",
       "2      True     False   1.00000  -0.03365   1.00000   0.00485   1.00000   \n",
       "3      True     False   1.00000  -0.45161   1.00000   1.00000   0.71216   \n",
       "4      True     False   1.00000  -0.02401   0.94140   0.06531   0.92106   \n",
       "\n",
       "   column_h  column_i  column_j  ...  column_z  column_aa  column_ab  \\\n",
       "0  -0.37708   1.00000   0.03760  ...  -0.51171    0.41078   -0.46168   \n",
       "1  -0.93597   1.00000  -0.04549  ...  -0.26569   -0.20468   -0.18401   \n",
       "2  -0.12062   0.88965   0.01198  ...  -0.40220    0.58984   -0.22145   \n",
       "3  -1.00000   0.00000   0.00000  ...   0.90695    0.51613    1.00000   \n",
       "4  -0.23255   0.77152  -0.16399  ...  -0.65158    0.13290   -0.53206   \n",
       "\n",
       "   column_ac  column_ad  column_ae  column_af  column_ag  column_ah  column_ai  \n",
       "0    0.21266   -0.34090    0.42267   -0.54487    0.18641   -0.45300          g  \n",
       "1   -0.19040   -0.11593   -0.16626   -0.06288   -0.13738   -0.02447          b  \n",
       "2    0.43100   -0.17365    0.60436   -0.24180    0.56045   -0.38238          g  \n",
       "3    1.00000   -0.20099    0.25682    1.00000   -0.32382    1.00000          b  \n",
       "4    0.02431   -0.62197   -0.05707   -0.59573   -0.04608   -0.65697          g  \n",
       "\n",
       "[5 rows x 35 columns]"
      ]
     },
     "execution_count": 2,
     "metadata": {},
     "output_type": "execute_result"
    }
   ],
   "source": [
    "data = pd.read_csv('ionosphere_data.csv')\n",
    "data.head()"
   ]
  },
  {
   "cell_type": "markdown",
   "id": "febd45cb",
   "metadata": {},
   "source": [
    "### Check missing values"
   ]
  },
  {
   "cell_type": "code",
   "execution_count": 3,
   "id": "a7267344",
   "metadata": {},
   "outputs": [
    {
     "data": {
      "text/plain": [
       "column_a     0\n",
       "column_b     0\n",
       "column_c     0\n",
       "column_d     0\n",
       "column_e     0\n",
       "column_f     0\n",
       "column_g     0\n",
       "column_h     0\n",
       "column_i     0\n",
       "column_j     0\n",
       "column_k     0\n",
       "column_l     0\n",
       "column_m     0\n",
       "column_n     0\n",
       "column_o     0\n",
       "column_p     0\n",
       "column_q     0\n",
       "column_r     0\n",
       "column_s     0\n",
       "column_t     0\n",
       "column_u     0\n",
       "column_v     0\n",
       "column_w     0\n",
       "column_x     0\n",
       "column_y     0\n",
       "column_z     0\n",
       "column_aa    0\n",
       "column_ab    0\n",
       "column_ac    0\n",
       "column_ad    0\n",
       "column_ae    0\n",
       "column_af    0\n",
       "column_ag    0\n",
       "column_ah    0\n",
       "column_ai    0\n",
       "dtype: int64"
      ]
     },
     "execution_count": 3,
     "metadata": {},
     "output_type": "execute_result"
    }
   ],
   "source": [
    "data.isnull().sum()"
   ]
  },
  {
   "cell_type": "code",
   "execution_count": 4,
   "id": "1e5d0e31",
   "metadata": {},
   "outputs": [],
   "source": [
    "data = data.drop('column_b', axis = 1)"
   ]
  },
  {
   "cell_type": "markdown",
   "id": "926a8f79",
   "metadata": {},
   "source": [
    "### Create labels for data"
   ]
  },
  {
   "cell_type": "code",
   "execution_count": 5,
   "id": "21ec2768",
   "metadata": {},
   "outputs": [],
   "source": [
    "target = 'column_ai'\n",
    "target_mapper = {'g': 0, 'b': 1}\n",
    "def target_encode(val):\n",
    "    return target_mapper[val]\n",
    "\n",
    "data[target] = data[target].apply(target_encode)"
   ]
  },
  {
   "cell_type": "code",
   "execution_count": 6,
   "id": "20e569ce",
   "metadata": {},
   "outputs": [],
   "source": [
    "data['column_a'] = data.column_a.astype('float64')"
   ]
  },
  {
   "cell_type": "markdown",
   "id": "939bc72d",
   "metadata": {},
   "source": [
    "Separate X and Y"
   ]
  },
  {
   "cell_type": "code",
   "execution_count": 7,
   "id": "caa9fba7",
   "metadata": {},
   "outputs": [],
   "source": [
    "X = data.drop(target, axis = 1)\n",
    "y = data[target]"
   ]
  },
  {
   "cell_type": "markdown",
   "id": "ae77ba96",
   "metadata": {},
   "source": [
    "Scale data"
   ]
  },
  {
   "cell_type": "code",
   "execution_count": 8,
   "id": "52419828",
   "metadata": {},
   "outputs": [],
   "source": [
    "X_features = X\n",
    "X = StandardScaler().fit_transform(X)"
   ]
  },
  {
   "cell_type": "markdown",
   "id": "7244a5f6",
   "metadata": {},
   "source": [
    "Split training and test data"
   ]
  },
  {
   "cell_type": "code",
   "execution_count": 9,
   "id": "f8790e28",
   "metadata": {},
   "outputs": [],
   "source": [
    "X_train, X_test, y_train, y_test = train_test_split(X, y, test_size=.2)"
   ]
  },
  {
   "cell_type": "markdown",
   "id": "bbf12467",
   "metadata": {},
   "source": [
    "Fit model and predict"
   ]
  },
  {
   "cell_type": "code",
   "execution_count": 10,
   "id": "f050a1fa",
   "metadata": {},
   "outputs": [],
   "source": [
    "model = SVC(C = 1.0, kernel = 'rbf', degree = 3)\n",
    "model.fit(X_train, y_train)\n",
    "y_pred = model.predict(X_test)"
   ]
  },
  {
   "cell_type": "markdown",
   "id": "70ade2f9",
   "metadata": {},
   "source": [
    "Check performance of model"
   ]
  },
  {
   "cell_type": "code",
   "execution_count": 11,
   "id": "7f446648",
   "metadata": {},
   "outputs": [
    {
     "name": "stdout",
     "output_type": "stream",
     "text": [
      "              precision    recall  f1-score   support\n",
      "\n",
      "           0       0.94      0.96      0.95        47\n",
      "           1       0.91      0.88      0.89        24\n",
      "\n",
      "    accuracy                           0.93        71\n",
      "   macro avg       0.93      0.92      0.92        71\n",
      "weighted avg       0.93      0.93      0.93        71\n",
      "\n"
     ]
    }
   ],
   "source": [
    "print(classification_report(y_test, y_pred))"
   ]
  }
 ],
 "metadata": {
  "kernelspec": {
   "display_name": "Python 3 (ipykernel)",
   "language": "python",
   "name": "python3"
  },
  "language_info": {
   "codemirror_mode": {
    "name": "ipython",
    "version": 3
   },
   "file_extension": ".py",
   "mimetype": "text/x-python",
   "name": "python",
   "nbconvert_exporter": "python",
   "pygments_lexer": "ipython3",
   "version": "3.9.13"
  }
 },
 "nbformat": 4,
 "nbformat_minor": 5
}
